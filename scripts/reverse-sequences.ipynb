{
 "cells": [
  {
   "cell_type": "markdown",
   "metadata": {},
   "source": [
    "# Reverse the sequences"
   ]
  },
  {
   "cell_type": "code",
   "execution_count": 12,
   "metadata": {},
   "outputs": [],
   "source": [
    "genes = [\"PB2\",\"PB1\",\"PA\",\"HA\",\"NP\",\"NA\",\"MP\",\"NS\"]"
   ]
  },
  {
   "cell_type": "code",
   "execution_count": 13,
   "metadata": {},
   "outputs": [],
   "source": [
    "for g in genes: \n",
    "    input_fasta = \"A_domestic_goose_NL_FAV003517_2021/A_domesticgoose_NL_FAV003517_2021_\"+g+\"_with_ncrs_F.fasta\"\n",
    "    output_fasta = input_fasta.replace(\"_F.fasta\",\"_R.fasta\")\n",
    "\n",
    "    with open(input_fasta, \"r\") as infile: \n",
    "        for line in infile: \n",
    "            if \">\" in line: \n",
    "                with open(output_fasta, \"w\") as outfile: \n",
    "                    outfile.write(line)\n",
    "\n",
    "            else: \n",
    "                sequence = line.strip()\n",
    "                sequence = sequence.replace(\"-\",\"\")\n",
    "                reverse_sequence = sequence[::-1]\n",
    "                with open(output_fasta, \"a\") as outfile: \n",
    "                    outfile.write(reverse_sequence)"
   ]
  },
  {
   "cell_type": "code",
   "execution_count": null,
   "metadata": {},
   "outputs": [],
   "source": []
  }
 ],
 "metadata": {
  "kernelspec": {
   "display_name": "LHM-basics (python3)",
   "language": "python",
   "name": "lhm-basics"
  },
  "language_info": {
   "codemirror_mode": {
    "name": "ipython",
    "version": 3
   },
   "file_extension": ".py",
   "mimetype": "text/x-python",
   "name": "python",
   "nbconvert_exporter": "python",
   "pygments_lexer": "ipython3",
   "version": "3.7.3"
  }
 },
 "nbformat": 4,
 "nbformat_minor": 2
}
