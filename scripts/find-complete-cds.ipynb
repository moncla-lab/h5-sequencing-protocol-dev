{
 "cells": [
  {
   "cell_type": "code",
   "execution_count": 1,
   "metadata": {},
   "outputs": [],
   "source": [
    "import Bio\n",
    "from Bio import SeqIO"
   ]
  },
  {
   "cell_type": "code",
   "execution_count": 2,
   "metadata": {},
   "outputs": [],
   "source": [
    "alignments_directory = \"../results/\"\n",
    "genes = [\"PB2\",\"PB1\",\"PA\",\"HA\",\"NP\",\"NA\",\"MP\",\"NS\"]"
   ]
  },
  {
   "cell_type": "code",
   "execution_count": 3,
   "metadata": {},
   "outputs": [],
   "source": [
    "uni12_a = \"AGCAAAAGCAGG\"\n",
    "uni12_b = \"AGCGAAAGCAGG\"\n",
    "\n",
    "uni13 = \"CCTTGTTTCTACT\"\n",
    "start_codon = \"ATG\""
   ]
  },
  {
   "cell_type": "code",
   "execution_count": 41,
   "metadata": {},
   "outputs": [],
   "source": [
    "complete_sequences = {}\n",
    "\n",
    "for g in genes:     \n",
    "    input_alignment = alignments_directory + \"aligned_h5nx_\" + g + \".fasta\"\n",
    "    \n",
    "    for seq in SeqIO.parse(input_alignment, \"fasta\"):\n",
    "        if (str(seq.seq).startswith(uni12_a) or str(seq.seq).startswith(uni12_b)) and str(seq.seq).endswith(uni13):\n",
    "            if seq.id in complete_sequences: \n",
    "                complete_sequences[seq.id].append(g)\n",
    "            else: \n",
    "                complete_sequences[seq.id] = [g]"
   ]
  },
  {
   "cell_type": "code",
   "execution_count": 42,
   "metadata": {},
   "outputs": [],
   "source": [
    "\"\"\"apparently, there are no genomes that are fully complete. Ugh.\"\"\"\n",
    "for c in complete_sequences: \n",
    "    if len(complete_sequences[c]) > 7: \n",
    "        print(c)"
   ]
  },
  {
   "cell_type": "code",
   "execution_count": 43,
   "metadata": {},
   "outputs": [],
   "source": [
    "# complete_sequences"
   ]
  },
  {
   "cell_type": "code",
   "execution_count": 8,
   "metadata": {},
   "outputs": [
    {
     "name": "stdout",
     "output_type": "stream",
     "text": [
      "PB2\n",
      "here!\n",
      "PB1\n",
      "here!\n",
      "PA\n",
      "here!\n",
      "HA\n",
      "here!\n",
      "NP\n",
      "here!\n",
      "NA\n",
      "here!\n",
      "MP\n",
      "here!\n",
      "NS\n",
      "here!\n"
     ]
    }
   ],
   "source": [
    "\"\"\"now for each gene, output an alignment of just the complete sequences so that I can just see whether there \n",
    "are mutations in the non-coding regions\"\"\"\n",
    "\n",
    "for g in genes: \n",
    "    print(g)\n",
    "    input_alignment = alignments_directory + \"aligned_h5nx_\" + g + \".fasta\"\n",
    "    output_alignment = \"alignments-with-ncrs/aligned_h5nx_\" + g + \"_complete_ncrs.fasta\"\n",
    "    \n",
    "    with open(output_alignment, \"w\") as outfile: \n",
    "        outfile.write(\"\")\n",
    "    \n",
    "    for seq in SeqIO.parse(input_alignment, \"fasta\"):\n",
    "        if \"A/domesticgoose/NL/FAV003517/2021\" in seq.id: \n",
    "            print(\"here!\")\n",
    "            with open(output_alignment, \"a\") as outfile: \n",
    "                outfile.write(\">\" + seq.id + \"\\n\" + str(seq.seq) + \"\\n\")\n",
    "        \n",
    "        # if you start with uni12 and end with uni13 you are complete\n",
    "        elif (str(seq.seq).startswith(uni12_a) or str(seq.seq).startswith(uni12_b)) and str(seq.seq).endswith(uni13):\n",
    "            year = seq.id.split(\"/\")[-1]\n",
    "            if \"2022\" in year: \n",
    "                \n",
    "                with open(output_alignment, \"a\") as outfile: \n",
    "                    outfile.write(\">\" + seq.id + \"\\n\" + str(seq.seq) + \"\\n\")\n",
    "                    \n",
    "        elif g in [\"HA\",\"NS\"]:\n",
    "            if str(seq.seq).startswith(uni12_a) or str(seq.seq).startswith(uni12_b) or str(seq.seq).endswith(uni13):\n",
    "                year = seq.id.split(\"/\")[-1]\n",
    "                if \"2022\" in year: \n",
    "\n",
    "                    with open(output_alignment, \"a\") as outfile: \n",
    "                        outfile.write(\">\" + seq.id + \"\\n\" + str(seq.seq) + \"\\n\")"
   ]
  },
  {
   "cell_type": "code",
   "execution_count": null,
   "metadata": {},
   "outputs": [],
   "source": []
  }
 ],
 "metadata": {
  "kernelspec": {
   "display_name": "LHM-basics (python3)",
   "language": "python",
   "name": "lhm-basics"
  },
  "language_info": {
   "codemirror_mode": {
    "name": "ipython",
    "version": 3
   },
   "file_extension": ".py",
   "mimetype": "text/x-python",
   "name": "python",
   "nbconvert_exporter": "python",
   "pygments_lexer": "ipython3",
   "version": "3.7.3"
  }
 },
 "nbformat": 4,
 "nbformat_minor": 2
}
